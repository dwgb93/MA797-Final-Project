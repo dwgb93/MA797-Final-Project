{
  "nbformat": 4,
  "nbformat_minor": 0,
  "metadata": {
    "colab": {
      "name": "MA 797 Final Project Bates.ipynb",
      "provenance": [],
      "collapsed_sections": [],
      "toc_visible": true,
      "include_colab_link": true
    },
    "kernelspec": {
      "name": "python3",
      "display_name": "Python 3"
    },
    "accelerator": "GPU"
  },
  "cells": [
    {
      "cell_type": "markdown",
      "metadata": {
        "id": "view-in-github",
        "colab_type": "text"
      },
      "source": [
        "<a href=\"https://colab.research.google.com/github/dwgb93/MA797-Final-Project/blob/main/MA_797_Final_Project_Bates.ipynb\" target=\"_parent\"><img src=\"https://colab.research.google.com/assets/colab-badge.svg\" alt=\"Open In Colab\"/></a>"
      ]
    },
    {
      "cell_type": "markdown",
      "metadata": {
        "id": "XfY45xxt9H9E"
      },
      "source": [
        "#Final Project\n",
        "#Dylan, A, A\n",
        "\n",
        "We are going to use transfer learning on I̶n̶c̶e̶p̶t̶i̶o̶n̶    VGG to predict pictures of animals. \n",
        "The below code is modified from [keras.io/applications](keras.io/applications) to fine-tune VGG-16 on a new set of classes.\n"
      ]
    },
    {
      "cell_type": "code",
      "metadata": {
        "id": "VBVI8oK7oJjL",
        "colab": {
          "base_uri": "https://localhost:8080/",
          "height": 375
        },
        "outputId": "32b5c3be-e531-49ab-982e-5640c2427dbc"
      },
      "source": [
        "# imports\n",
        "#from keras.applications.inception_v3 import InceptionV3 #God I love Keras sometimes\n",
        "from keras.applications.vgg16 import VGG16, preprocess_input\n",
        "from keras.preprocessing import image\n",
        "from keras.models import Model\n",
        "from keras.layers import Dense, GlobalAveragePooling2D, Dropout\n",
        "from keras import backend as K\n",
        "from keras.callbacks import ModelCheckpoint, EarlyStopping\n",
        "from keras.preprocessing.image import ImageDataGenerator\n",
        "from keras.applications.imagenet_utils import preprocess_input\n",
        "from keras.optimizers import SGD\n",
        "\n",
        "# need the new one for the confusion matrix\n",
        "!pip install scikit-learn==0.22\n",
        "\n",
        "# mount google drive\n",
        "from google.colab import drive\n",
        "drive.mount('/content/drive')"
      ],
      "execution_count": null,
      "outputs": [
        {
          "output_type": "stream",
          "text": [
            "Using TensorFlow backend.\n"
          ],
          "name": "stderr"
        },
        {
          "output_type": "display_data",
          "data": {
            "text/html": [
              "<p style=\"color: red;\">\n",
              "The default version of TensorFlow in Colab will soon switch to TensorFlow 2.x.<br>\n",
              "We recommend you <a href=\"https://www.tensorflow.org/guide/migrate\" target=\"_blank\">upgrade</a> now \n",
              "or ensure your notebook will continue to use TensorFlow 1.x via the <code>%tensorflow_version 1.x</code> magic:\n",
              "<a href=\"https://colab.research.google.com/notebooks/tensorflow_version.ipynb\" target=\"_blank\">more info</a>.</p>\n"
            ],
            "text/plain": [
              "<IPython.core.display.HTML object>"
            ]
          },
          "metadata": {
            "tags": []
          }
        },
        {
          "output_type": "stream",
          "text": [
            "Collecting scikit-learn==0.22\n",
            "\u001b[?25l  Downloading https://files.pythonhosted.org/packages/2e/d0/860c4f6a7027e00acff373d9f5327f4ae3ed5872234b3cbdd7bcb52e5eff/scikit_learn-0.22-cp36-cp36m-manylinux1_x86_64.whl (7.0MB)\n",
            "\u001b[K     |████████████████████████████████| 7.0MB 6.6MB/s \n",
            "\u001b[?25hRequirement already satisfied: scipy>=0.17.0 in /usr/local/lib/python3.6/dist-packages (from scikit-learn==0.22) (1.3.3)\n",
            "Requirement already satisfied: joblib>=0.11 in /usr/local/lib/python3.6/dist-packages (from scikit-learn==0.22) (0.14.1)\n",
            "Requirement already satisfied: numpy>=1.11.0 in /usr/local/lib/python3.6/dist-packages (from scikit-learn==0.22) (1.17.4)\n",
            "Installing collected packages: scikit-learn\n",
            "  Found existing installation: scikit-learn 0.21.3\n",
            "    Uninstalling scikit-learn-0.21.3:\n",
            "      Successfully uninstalled scikit-learn-0.21.3\n",
            "Successfully installed scikit-learn-0.22\n",
            "Go to this URL in a browser: https://accounts.google.com/o/oauth2/auth?client_id=947318989803-6bn6qk8qdgf4n4g3pfee6491hc0brc4i.apps.googleusercontent.com&redirect_uri=urn%3aietf%3awg%3aoauth%3a2.0%3aoob&response_type=code&scope=email%20https%3a%2f%2fwww.googleapis.com%2fauth%2fdocs.test%20https%3a%2f%2fwww.googleapis.com%2fauth%2fdrive%20https%3a%2f%2fwww.googleapis.com%2fauth%2fdrive.photos.readonly%20https%3a%2f%2fwww.googleapis.com%2fauth%2fpeopleapi.readonly\n",
            "\n",
            "Enter your authorization code:\n",
            "··········\n",
            "Mounted at /content/drive\n"
          ],
          "name": "stdout"
        }
      ]
    },
    {
      "cell_type": "code",
      "metadata": {
        "id": "mdk-yiMDzZHX"
      },
      "source": [
        "# zip file containing 2 folders: train, test \n",
        "# The training data consists of images in 16 classes\n",
        "# Testing data consists of SEQUENCES of images\n",
        "# I went out of my way to separate whole sequences into train and test\n",
        "!unzip -q \"/content/drive/My Drive/Colab Notebooks/ML Final Project/data.zip\" # where data is stored might have changed. Change drive to gdrive to fix\n",
        "#!unzip -q \"/content/drive/My Drive/Colab Notebooks/dataBroad.zip\""
      ],
      "execution_count": null,
      "outputs": []
    },
    {
      "cell_type": "markdown",
      "metadata": {
        "id": "3PNeXOCpFJSz"
      },
      "source": [
        "#Part 1: Data Analysis - if rerunning, run from here Ctrl+F10\n",
        "\n",
        "*   How many training images?\n",
        "*   How many testing images?\n",
        "\n"
      ]
    },
    {
      "cell_type": "code",
      "metadata": {
        "id": "NjZcfEqJ3ko7",
        "colab": {
          "base_uri": "https://localhost:8080/",
          "height": 260
        },
        "outputId": "28450431-6f63-4d5b-d761-12a72c4b7c88"
      },
      "source": [
        "import os\n",
        "import numpy as np\n",
        "EPOCHS = 32 # up from 20 # Training will automatically stop when val loss increases\n",
        "BATCH_SIZE = 64 # may increase this, for better gradient\n",
        "\n",
        "TRAIN_DIR = '/content/data/training'\n",
        "TEST_DIR = '/content/data/test'\n",
        "\n",
        "# Sanity check\n",
        "target_names = [item for item in os.listdir(TRAIN_DIR) if os.path.isdir(os.path.join(TRAIN_DIR, item))]\n",
        "nb_train_samples = sum([len(files) for _, _, files in os.walk(TRAIN_DIR)])  \n",
        "nb_test_samples = sum([len(files) for _, _, files in os.walk(TEST_DIR)])\n",
        "total_nb_samples = nb_train_samples + nb_test_samples\n",
        "\n",
        "nb_classes = len(target_names)      # number of output classes\n",
        "\n",
        "print('Training a CNN Multi-Classifier Model ......')\n",
        "print('\\n - names of classes: ', target_names, '\\n - # of classes: ', nb_classes)\n",
        "print(' - # of training samples: ', nb_train_samples, '\\n - split into  ', 0.2*nb_train_samples, ' validation samples'\n",
        "      '\\n - # of test samples: ', nb_test_samples,\n",
        "       '\\n - total # of samples: ', total_nb_samples, '\\n - train ratio:', round(nb_train_samples/total_nb_samples*100, 2),\n",
        "     ' %', '\\n - # of epochs: ', EPOCHS, '\\n - batch size: ', BATCH_SIZE)\n",
        "\n",
        "#train on the entire set every epoch\n",
        "STEPS_PER_EPOCH = np.ceil(nb_train_samples/BATCH_SIZE) #number of batches per epoch\n",
        "VALIDATION_STEPS = np.ceil(0.2*nb_train_samples/BATCH_SIZE)\n",
        "\n",
        "print(\"Steps per epoch: \", STEPS_PER_EPOCH)\n",
        "print(\"Validation steps: \", VALIDATION_STEPS)"
      ],
      "execution_count": null,
      "outputs": [
        {
          "output_type": "stream",
          "text": [
            "Training a CNN Multi-Classifier Model ......\n",
            "\n",
            " - names of classes:  ['1.60-Red_Fox', '1.59-Wild_Boar', '1.10-Ocelot', '1.07-Red_Brocket_Deer', '1.08-White-nosed_Coati', '1.58-Roe_Deer', '1.14-Red_Squirrel', '1.03-Collared_Peccary', '1.80-Coiban_Agouti', '1.27-White_Tailed_Deer', '1.22-Bird_spec', '1.02-Agouti', '1.63-European_Hare', '1.56-Mouflon', '1.57-Red_Deer', '1.25-Great_Tinamou'] \n",
            " - # of classes:  16\n",
            " - # of training samples:  566 \n",
            " - split into   113.2  validation samples\n",
            " - # of test samples:  1057 \n",
            " - total # of samples:  1623 \n",
            " - train ratio: 34.87  % \n",
            " - # of epochs:  32 \n",
            " - batch size:  64\n",
            "Steps per epoch:  9.0\n",
            "Validation steps:  2.0\n"
          ],
          "name": "stdout"
        }
      ]
    },
    {
      "cell_type": "markdown",
      "metadata": {
        "id": "1i5O4U-e_E5N"
      },
      "source": [
        "#Part 2: Creating the Model\n",
        "\n",
        "Import the VGG16 model. Inception tries to classify images into 1000 different categories. We only have 16. So we're going to remove the last layer, freeze the model, and add a 16 neuron final layer to train."
      ]
    },
    {
      "cell_type": "code",
      "metadata": {
        "id": "dAYzTmz_3O1l"
      },
      "source": [
        "# create the base pre-trained model\n",
        "base_model = VGG16(weights='imagenet', include_top=False)\n",
        "#top = false removes the last dense (output) later\n",
        "#Last layer is randomly initialized\n",
        "\n",
        "n = nb_classes #NumClasses\n",
        "\n",
        "# add a global spatial average pooling layer\n",
        "x = base_model.output\n",
        "x = GlobalAveragePooling2D()(x)\n",
        "# add a fully-connected layer\n",
        "x = Dense(1024, activation='relu')(x)\n",
        "x = Dropout(0.5)(x) # sometimes removed or modified\n",
        "\n",
        "# and a logistic layer -- let's say we have numClasses n\n",
        "predictions = Dense(n, activation='softmax')(x)\n",
        "\n",
        "# this is the model we will train\n",
        "model = Model(inputs=base_model.input, outputs=predictions)\n",
        "\n",
        "#model.summary() # It's not as deep as Inception, but it'll do\n",
        "\n",
        "# first: train only the top (last) layers (which were randomly initialized)\n",
        "# i.e. freeze all convolutional VGG layers\n",
        "for layer in base_model.layers:\n",
        "    layer.trainable = False\n",
        "\n",
        "# compile the model (should be done *after* setting layers to non-trainable)\n",
        "model.compile(optimizer='adam', loss='categorical_crossentropy',metrics = ['accuracy'])\n",
        "# optimizer changed to adam from rmsprop because it's spoopier\n",
        "\n",
        "# Save the best model.\n",
        "checkpoint = ModelCheckpoint('best_defaultD5_model.hdf5', monitor='val_loss', save_best_only=True, period=1)\n",
        "\n",
        "# stop training if it's overfitting # may need to increase regularization\n",
        "early = EarlyStopping(monitor='val_loss', min_delta=0, patience=12, verbose=1, mode='auto')\n",
        "CALLBACKS=[checkpoint,early]\n",
        "\n",
        "# train the model on the new data for a few epochs"
      ],
      "execution_count": null,
      "outputs": []
    },
    {
      "cell_type": "markdown",
      "metadata": {
        "id": "420CEzA_BEx9"
      },
      "source": [
        "#Part 3: Image Regularization/Augmentation\n",
        "\n",
        "VGG16 expects a 224x224 RGB image. So we resize each image and scale each channel from [0,255] to [-1,1].\n",
        "\n",
        "Initial tests were run as is. Later on, images were rotated, reflected, sheared, scaled, and translated to help avoid overfitting.\n",
        "\n",
        "Training and validation images were drawn from the same folder with a random 80/20 split."
      ]
    },
    {
      "cell_type": "code",
      "metadata": {
        "id": "ZEWsO0KEJQYZ",
        "colab": {
          "base_uri": "https://localhost:8080/",
          "height": 68
        },
        "outputId": "f9fefd5c-81af-4ad3-9f49-eebd8030640f"
      },
      "source": [
        "# required image size for VGG16. UGH, that's less than 2% of full HD images\n",
        "WIDTH = 224\n",
        "HEIGHT = 224\n",
        "\n",
        "# potential image augmentation\n",
        "train_datagen = ImageDataGenerator(\n",
        "    preprocessing_function=preprocess_input,\n",
        "    horizontal_flip=True,\n",
        "    rotation_range=10, # sometimes these 5 rows are commented out\n",
        "    width_shift_range=0.1,\n",
        "    height_shift_range=0.1,\n",
        "    shear_range=0.1,\n",
        "    zoom_range=0.1,\n",
        "    fill_mode='nearest',\n",
        "    validation_split=0.2) #TURN THIS ONE BACK ON\n",
        "\n",
        "\n",
        "validation_datagen = ImageDataGenerator(\n",
        "    preprocessing_function=preprocess_input,\n",
        "    validation_split=0.2)\n",
        "\n",
        "train_generator = train_datagen.flow_from_directory(\n",
        "    TRAIN_DIR,\n",
        "    target_size=(HEIGHT, WIDTH),\n",
        "\t\tbatch_size=BATCH_SIZE,\n",
        "\t\tclass_mode='categorical',\n",
        "    subset='training')\n",
        "\n",
        "# uses same datagen as training, since it's from the same set\n",
        "validation_generator = validation_datagen.flow_from_directory(\n",
        "    TRAIN_DIR,\n",
        "    target_size=(HEIGHT, WIDTH),\n",
        "\t\tbatch_size=BATCH_SIZE,\n",
        "\t\tclass_mode='categorical',\n",
        "    subset='validation')\n",
        "\n",
        "# No augmentation here. Just normalization.\n",
        "test_datagen = ImageDataGenerator(preprocessing_function=preprocess_input)\n",
        "\n",
        "naive_test_generator = test_datagen.flow_from_directory(\n",
        "    TEST_DIR,\n",
        "    target_size=(HEIGHT, WIDTH),\n",
        "    batch_size = BATCH_SIZE,\n",
        "\t\tclass_mode='categorical')\n",
        "\n",
        "# real test generator below"
      ],
      "execution_count": null,
      "outputs": [
        {
          "output_type": "stream",
          "text": [
            "Found 457 images belonging to 16 classes.\n",
            "Found 109 images belonging to 16 classes.\n",
            "Found 1057 images belonging to 16 classes.\n"
          ],
          "name": "stdout"
        }
      ]
    },
    {
      "cell_type": "markdown",
      "metadata": {
        "id": "vJSnudiiDJAE"
      },
      "source": [
        "#Part 4: Training the Model\n",
        "\n",
        "Optional: saving the model for later use.\n",
        "We are currently running the model for 20 epochs, but that may change if it's still converging.\n",
        "\n",
        "Note that unless image augmentation is used in Part 3, validation accuracy will be much lower than testing accuracy, due to the size of the dataset."
      ]
    },
    {
      "cell_type": "code",
      "metadata": {
        "id": "TJGRFL4_v48n",
        "colab": {
          "base_uri": "https://localhost:8080/",
          "height": 329
        },
        "outputId": "2ea56f50-7e63-4d66-c1e0-bb228ca95f83"
      },
      "source": [
        "#Train the model\n",
        "#MODEL_FILE = 'Default.model'\n",
        "\n",
        "print(\"Model has started training\")\n",
        "history = model.fit_generator(\n",
        "    train_generator,\n",
        "    epochs=EPOCHS,\n",
        "    steps_per_epoch=STEPS_PER_EPOCH,\n",
        "    validation_data=validation_generator,\n",
        "    validation_steps=VALIDATION_STEPS,\n",
        "    callbacks=CALLBACKS,\n",
        "    verbose=0)\n",
        "  \n",
        "\n",
        "#model.save(MODEL_FILE)\n",
        "\n",
        "import matplotlib.pyplot as plt\n",
        "plt.plot(history.history[\"acc\"])\n",
        "plt.plot(history.history['val_acc'])\n",
        "plt.plot(history.history['loss'])\n",
        "plt.plot(history.history['val_loss'])\n",
        "plt.title(\"1024D0.5A3 model accuracy with 0.2 Val Set\")\n",
        "plt.ylabel(\"Accuracy\")\n",
        "plt.xlabel(\"Epoch\")\n",
        "plt.legend([\"Accuracy\",\"Validation Accuracy\",\"Loss\",\"Validation Loss\"]) #Is this loss?\n",
        "plt.show()"
      ],
      "execution_count": null,
      "outputs": [
        {
          "output_type": "stream",
          "text": [
            "Model has started training\n",
            "Epoch 00021: early stopping\n"
          ],
          "name": "stdout"
        },
        {
          "output_type": "display_data",
          "data": {
            "image/png": "[encoded data removed]",
            "text/plain": [
              "<Figure size 432x288 with 1 Axes>"
            ]
          },
          "metadata": {
            "tags": []
          }
        }
      ]
    },
    {
      "cell_type": "markdown",
      "metadata": {
        "id": "UupjozQDDimW"
      },
      "source": [
        "#Part 5: Fine Tuning the model\n",
        "\n",
        "At this point, the top layers are well trained and we can start fine-tuning convolutional layers from VGG16. We will freeze the bottom (first) few layers and train the remaining top layers."
      ]
    },
    {
      "cell_type": "code",
      "metadata": {
        "id": "U7k3dAvOvFz-",
        "colab": {
          "base_uri": "https://localhost:8080/",
          "height": 103
        },
        "outputId": "8a075169-7a4c-4645-dd86-f9a0ce0fe09a"
      },
      "source": [
        "# let's visualize layer names and layer indices to see how many layers\n",
        "# we should freeze:\n",
        "# for i, layer in enumerate(base_model.layers):\n",
        "#    print(i, layer.name)\n",
        "\n",
        "\n",
        "# we chose to train the top 2 convolutional blocks, i.e. we will freeze\n",
        "# the first 11 layers and unfreeze the rest: \n",
        "for layer in model.layers[:11]:\n",
        "   layer.trainable = False\n",
        "for layer in model.layers[11:]:\n",
        "   layer.trainable = True\n",
        "\n",
        "# we need to recompile the model for these modifications to take effect\n",
        "# we use SGD with a low learning rate\n",
        "model.compile(optimizer=SGD(lr=0.0001, momentum=0.9), loss='categorical_crossentropy',metrics = ['accuracy'])\n",
        "\n",
        "# Save the best model.\n",
        "checkpointF = ModelCheckpoint('best_1024_model.hdf5', monitor='val_loss', save_best_only=True, period=1)\n",
        "\n",
        "# stop training sooner if it's overfitting # may need to increase regularization\n",
        "earlyF = EarlyStopping(monitor='val_loss', min_delta=0, patience=1, verbose=1, mode='auto')\n",
        "\n",
        "CALLBACKSF=[checkpointF,earlyF]\n",
        "\n",
        "# we train our model again (this time fine-tuning the top 2 convolutional blocks\n",
        "# alongside the top Dense layers, for only a few epochs\n",
        "history_fine = model.fit(train_generator,\n",
        "                         epochs=EPOCHS,\n",
        "                         initial_epoch =  history.epoch[-1],\n",
        "                         validation_data=validation_generator,\n",
        "                         validation_steps=VALIDATION_STEPS,\n",
        "                         callbacks=CALLBACKSF)\n",
        "\n",
        "# Naive test accuracy over entire test set: probably very low\n",
        "#print('Out of Sample Accuracy: ', model.evaluate(naive_test_generator, verbose=True))\n",
        "\n",
        "# To be fair, if I showed you these images, you wouldn't be able to tell what's\n",
        "# in them either"
      ],
      "execution_count": null,
      "outputs": [
        {
          "output_type": "stream",
          "text": [
            "Epoch 21/32\n",
            "8/8 [==============================] - 28s 4s/step - loss: 0.4001 - acc: 0.8588 - val_loss: 1.9691 - val_acc: 0.5138\n",
            "Epoch 22/32\n",
            "8/8 [==============================] - 23s 3s/step - loss: 0.3861 - acc: 0.8773 - val_loss: 2.0568 - val_acc: 0.5321\n",
            "Epoch 00022: early stopping\n"
          ],
          "name": "stdout"
        }
      ]
    },
    {
      "cell_type": "markdown",
      "metadata": {
        "id": "E2aZRDLDIu6b"
      },
      "source": [
        "#Part 6: Using Sequences to Test\n",
        "\n",
        "Up until now, we've been viewing the sequences as a bad thing. More than 80% of images in a given sequence can be bad, with the animal obscured, out of focus, or out of frame. But the images are still labeled, as if there's a deer there.\n",
        "\n",
        "That is a large reason why the model failed to learn anything when run on the full dataset. However, since entire sequences are labeled as the same animal, we can use this a prori knowledge to increase our confidence in predicting the label of an entire sequence, which should significantly raise our out of sample testing accuracy."
      ]
    },
    {
      "cell_type": "code",
      "metadata": {
        "id": "c8ykZwnxJqLg",
        "colab": {
          "base_uri": "https://localhost:8080/",
          "height": 380
        },
        "outputId": "8cdcc862-9ab4-4801-bfaa-26d5580c3bcd"
      },
      "source": [
        "# function to determine animal in a sequence by averaging weights\n",
        "def calculate_sequence_average(animalWeights):\n",
        "    newArray = np.matmul(np.ones(len(animalWeights)),animalWeights)\n",
        "    return newArray/sum(newArray)\n",
        "\n",
        "# more aggressive function with higher confidence and (hopefully) higher accuracy\n",
        "def calculate_sequence_weights(animalWeights):\n",
        "    newArray = np.ones(n)\n",
        "    for i in range(len(animalWeights)):\n",
        "        newArray = np.multiply(newArray,animalWeights[i])\n",
        "\n",
        "    return newArray/sum(newArray)\n",
        "\n",
        "# VERY aggressive weight function \n",
        "def calculate_sequence_max(animalWeights):\n",
        "    newArray = animalWeights.flatten()\n",
        "\n",
        "    return (np.argmax(newArray) % n)\n",
        "\n",
        "\n",
        "# we're going to create a list of all the animals and all the sequences\n",
        "# as well as the size of the directories they're in, and feed them one\n",
        "# at a time to the two functions above\n",
        "list_of_animals = []\n",
        "list_of_directories = []\n",
        "number_of_sequence =[]\n",
        "length_of_sequence = []\n",
        "\n",
        "# names of folders in a directory of a directory:\n",
        "for animal in os.listdir(TEST_DIR):\n",
        "    list_of_animals.append(animal)\n",
        "    list_of_directories.append(os.path.join(TEST_DIR, animal))\n",
        "    length_of_sequence = []\n",
        "\n",
        "    for sequence in os.listdir(os.path.join(TEST_DIR, animal)):\n",
        "        length_of_sequence.append(len([name for name in os.listdir(os.path.join(os.path.join(TEST_DIR, animal), sequence)) if os.path.isfile(os.path.join(os.path.join(os.path.join(TEST_DIR, animal), sequence),name))]))\n",
        "    number_of_sequence.append(length_of_sequence)\n",
        "\n",
        "print(list_of_directories)\n",
        "totalSequences =  sum([len(elements) for elements in number_of_sequence])\n",
        "\n",
        "# For some reason, it was shuffling the order and marking nearly everything wrong\n",
        "labels = ['1.02-Agouti',\n",
        "          '1.03-Collared_Peccary',\n",
        "          '1.07-Red_Brocket_Deer',\n",
        "          '1.08-White-nosed_Coati',\n",
        "          '1.10-Ocelot',\n",
        "          '1.14-Red_Squirrel',\n",
        "          '1.22-Bird_spec',\n",
        "          '1.25-Great_Tinamou',\n",
        "          '1.27-White_Tailed_Deer',\n",
        "          '1.56-Mouflon',\n",
        "          '1.57-Red_Deer',\n",
        "          '1.58-Roe_Deer',\n",
        "          '1.59-Wild_Boar',\n",
        "          '1.60-Red_Fox',    \n",
        "          '1.63-European_Hare',  \n",
        "          '1.80-Coiban_Agouti']\n",
        "\n",
        "labels2 = ['1.08-White-nosed_Coati', # Used for the broad 10 species categories\n",
        "          '1.10-Ocelot',\n",
        "          '1.14-Red_Squirrel',\n",
        "          '1.56-Mouflon',\n",
        "          '1.60-Red_Fox',    \n",
        "          '1.63-European_Hare',  \n",
        "          'Agouti',\n",
        "          'Birds',\n",
        "          'Deer',\n",
        "          'Pigs']\n",
        "\n",
        "# counters for my three sequence metrics\n",
        "# Number of images correct\n",
        "averageCounter = 0\n",
        "correctCounter = 0\n",
        "maxCounter = 0\n",
        "# Number of sequences correct\n",
        "averageCounterS = 0\n",
        "correctCounterS = 0\n",
        "maxCounterS = 0\n",
        "\n",
        "# sanity check - should be the same as Naive_test_generator results\n",
        "myCounter = 0\n",
        "\n",
        "confusionTrue = []\n",
        "confusionPred = []\n",
        "\n",
        "for animal in range(len(list_of_animals)):\n",
        "    TEST_DIR_NEW = list_of_directories[animal]\n",
        "\n",
        "    # new test generator specifically made for sequences\n",
        "    test_generator = test_datagen.flow_from_directory(\n",
        "    TEST_DIR_NEW,\n",
        "    batch_size = 1,\n",
        "    target_size=(HEIGHT, WIDTH),\n",
        "\t\tclass_mode='categorical',\n",
        "    shuffle = False)\n",
        "   \n",
        "    #model.predict gives just the output\n",
        "    animalWeights = model.predict(test_generator)\n",
        "\n",
        "    for i in range(len(animalWeights)):\n",
        "        k = np.argmax(animalWeights[i])\n",
        "        \n",
        "        if labels[k] == list_of_animals[animal]:\n",
        "            myCounter = myCounter+1\n",
        "\n",
        "        # For the confusion matrix\n",
        "        confusionTrue.append(list_of_animals[animal])\n",
        "        confusionPred.append(labels[k])\n",
        "\n",
        "\n",
        "    for m in range(len(number_of_sequence[animal])):\n",
        "        # my three sequence weight calculations # Should improve accuracy\n",
        "        animalArray = calculate_sequence_weights(animalWeights[:number_of_sequence[animal][m]])\n",
        "        animalArray2 = calculate_sequence_average(animalWeights[:number_of_sequence[animal][m]])\n",
        "        k = np.argmax(animalArray)\n",
        "        k2 = np.argmax(animalArray2)\n",
        "        k3 = calculate_sequence_max(animalWeights[:number_of_sequence[animal][m]])\n",
        "        \n",
        "        #print(\"Sequence Prediction: \",labels[k], \"Average Prediction: \", labels[k2],\" Actual: \", list_of_animals[animal], \" Max: \", labels[k3])\n",
        "        if labels[k] == list_of_animals[animal]:\n",
        "            correctCounterS = correctCounterS+1\n",
        "            correctCounter = correctCounter+ len(animalWeights[:number_of_sequence[animal][m]])\n",
        "\n",
        "        if labels[k2] == list_of_animals[animal]:\n",
        "            averageCounterS = averageCounterS +1\n",
        "            averageCounter = averageCounter+ len(animalWeights[:number_of_sequence[animal][m]])\n",
        "\n",
        "        if labels[k3] == list_of_animals[animal]:\n",
        "            maxCounterS = maxCounterS +1\n",
        "            maxCounter = maxCounter + len(animalWeights[:number_of_sequence[animal][m]])\n",
        "\n",
        "        # remove first sequence and recalculate on next\n",
        "        animalWeights = animalWeights[number_of_sequence[animal][m]:]\n",
        "\n",
        "\n",
        "print('Out of Sample Accuracy: ', model.evaluate(naive_test_generator, verbose=True), ' check: ', myCounter/nb_test_samples) #these should be the same\n",
        "# My Three Metrics:\n",
        "print(\"Final Out of Sample Sequence Accuracy: \", correctCounterS/totalSequences, \" Average Accuracy: \", averageCounterS/totalSequences, \" Max Acc: \", maxCounterS/totalSequences)\n"
      ],
      "execution_count": null,
      "outputs": [
        {
          "output_type": "stream",
          "text": [
            "['/content/data/test/1.60-Red_Fox', '/content/data/test/1.59-Wild_Boar', '/content/data/test/1.10-Ocelot', '/content/data/test/1.07-Red_Brocket_Deer', '/content/data/test/1.08-White-nosed_Coati', '/content/data/test/1.58-Roe_Deer', '/content/data/test/1.14-Red_Squirrel', '/content/data/test/1.03-Collared_Peccary', '/content/data/test/1.80-Coiban_Agouti', '/content/data/test/1.27-White_Tailed_Deer', '/content/data/test/1.22-Bird_spec', '/content/data/test/1.02-Agouti', '/content/data/test/1.63-European_Hare', '/content/data/test/1.56-Mouflon', '/content/data/test/1.57-Red_Deer', '/content/data/test/1.25-Great_Tinamou']\n",
            "Found 10 images belonging to 1 classes.\n",
            "Found 45 images belonging to 3 classes.\n",
            "Found 3 images belonging to 1 classes.\n",
            "Found 24 images belonging to 2 classes.\n",
            "Found 81 images belonging to 9 classes.\n",
            "Found 170 images belonging to 6 classes.\n",
            "Found 43 images belonging to 4 classes.\n",
            "Found 18 images belonging to 2 classes.\n",
            "Found 100 images belonging to 6 classes.\n",
            "Found 77 images belonging to 2 classes.\n",
            "Found 33 images belonging to 7 classes.\n",
            "Found 26 images belonging to 3 classes.\n",
            "Found 5 images belonging to 1 classes.\n",
            "Found 220 images belonging to 6 classes.\n",
            "Found 175 images belonging to 5 classes.\n",
            "Found 27 images belonging to 3 classes.\n",
            "17/17 [==============================] - 40s 2s/step\n",
            "Out of Sample Accuracy:  [1.7305459096506168, 0.6310312209990979]  check:  0.631031220435194\n",
            "Final Out of Sample Sequence Accuracy:  0.6721311475409836  Average Accuracy:  0.6229508196721312  Max Acc:  0.7049180327868853\n"
          ],
          "name": "stdout"
        }
      ]
    },
    {
      "cell_type": "code",
      "metadata": {
        "id": "kVvOVhkrTx7D",
        "colab": {
          "base_uri": "https://localhost:8080/",
          "height": 68
        },
        "outputId": "23094f94-4c5f-41e2-866c-173d5bad4d84"
      },
      "source": [
        "# Formatted output for LaTeX tables\n",
        "print(len(history.history['acc']), \"&\",format(history.history['acc'][-1], '.4f'), \"&\", format(history.history['val_acc'][-1], '.4f'), '&', format(myCounter/nb_test_samples, '.4f'), '\\\\\\\\')\n",
        "\n",
        "print(format(myCounter/nb_test_samples, '.4f'), '&', format(averageCounterS/totalSequences, '.4f'), '&', format(correctCounterS/totalSequences, '.4f'), '&', format(maxCounterS/totalSequences, '.4f'), '\\\\\\\\')\n",
        "\n",
        "print(format(myCounter/nb_test_samples, '.4f'), '&', format(averageCounter/nb_test_samples, '.4f'), '&', format(correctCounter/nb_test_samples, '.4f'), '&', format(maxCounter/nb_test_samples, '.4f'), '\\\\\\\\')\n"
      ],
      "execution_count": null,
      "outputs": [
        {
          "output_type": "stream",
          "text": [
            "21 & 0.8541 & 0.5229 & 0.6310 \\\\\n",
            "0.6310 & 0.6230 & 0.6721 & 0.7049 \\\\\n",
            "0.6310 & 0.7162 & 0.7294 & 0.7143 \\\\\n"
          ],
          "name": "stdout"
        }
      ]
    },
    {
      "cell_type": "code",
      "metadata": {
        "id": "MJuDUD-KBbE3",
        "colab": {
          "base_uri": "https://localhost:8080/",
          "height": 301
        },
        "outputId": "eb18b563-76e5-460f-e986-33c6accf2ca8"
      },
      "source": [
        "#confusion matrix\n",
        "from sklearn.metrics import confusion_matrix, ConfusionMatrixDisplay\n",
        "\n",
        "cm=confusion_matrix(confusionTrue, confusionPred, labels=labels,normalize='true')\n",
        "plt.figure(figsize=(10,10)) #Yeah, that's supposed to make it big. RIP\n",
        "\n",
        "disp = ConfusionMatrixDisplay(confusion_matrix=cm,display_labels=labels)\n",
        "disp = disp.plot(cmap=plt.cm.Blues)\n",
        "\n",
        "plt.show()\n",
        "\n",
        "# Apparently everything is a Bird now."
      ],
      "execution_count": null,
      "outputs": [
        {
          "output_type": "display_data",
          "data": {
            "text/plain": [
              "<Figure size 720x720 with 0 Axes>"
            ]
          },
          "metadata": {
            "tags": []
          }
        },
        {
          "output_type": "display_data",
          "data": {
            "image/png": "[encoded data removed]",
            "text/plain": [
              "<Figure size 432x288 with 2 Axes>"
            ]
          },
          "metadata": {
            "tags": []
          }
        }
      ]
    },
    {
      "cell_type": "code",
      "metadata": {
        "id": "dzqEtJeGhOyV",
        "colab": {
          "base_uri": "https://localhost:8080/",
          "height": 34
        },
        "outputId": "adeb34fc-d5b3-466c-a1f2-8c5236122a00"
      },
      "source": [
        "# Comletely out of sample test for the lulz\n",
        "img_path = 'drive/My Drive/Colab Notebooks/ML Final Project/IsThisADeer.png'\n",
        "img = image.load_img(img_path, target_size=(224, 224))\n",
        "x = image.img_to_array(img)\n",
        "x = np.expand_dims(x, axis=0)\n",
        "x = preprocess_input(x)\n",
        "\n",
        "preds = model.predict(x)\n",
        "\n",
        "j = np.argmax(preds)\n",
        "print(\"it's a\", labels[j]) # Usually Bird for 16 species and Deer for 10\n"
      ],
      "execution_count": null,
      "outputs": [
        {
          "output_type": "stream",
          "text": [
            "it's a 1.57-Red_Deer\n"
          ],
          "name": "stdout"
        }
      ]
    }
  ]
}